{
  "nbformat": 4,
  "nbformat_minor": 0,
  "metadata": {
    "kernelspec": {
      "display_name": "Python 3",
      "language": "python",
      "name": "python3"
    },
    "language_info": {
      "codemirror_mode": {
        "name": "ipython",
        "version": 3
      },
      "file_extension": ".py",
      "mimetype": "text/x-python",
      "name": "python",
      "nbconvert_exporter": "python",
      "pygments_lexer": "ipython3",
      "version": "3.7.6"
    },
    "colab": {
      "name": "Food Reviews EDA.ipynb",
      "provenance": [],
      "collapsed_sections": [
        "aJwsTaM-JkNY",
        "p31CY7H_JkN6",
        "6quVv7OhJkN-"
      ]
    }
  },
  "cells": [
    {
      "cell_type": "markdown",
      "metadata": {
        "id": "XNBxaAkKwW-B"
      },
      "source": [
        "Dataset Link : https://www.kaggle.com/snap/amazon-fine-food-reviews"
      ]
    },
    {
      "cell_type": "code",
      "metadata": {
        "colab": {
          "base_uri": "https://localhost:8080/"
        },
        "id": "Iq306-WIKFvD",
        "outputId": "64cceab8-30e4-4466-b5e5-546e03684048"
      },
      "source": [
        "!gdown --id 1WCmb5JyfGpL3YEJFTxCTzdv12ODmjF1O"
      ],
      "execution_count": null,
      "outputs": [
        {
          "output_type": "stream",
          "name": "stdout",
          "text": [
            "Downloading...\n",
            "From: https://drive.google.com/uc?id=1WCmb5JyfGpL3YEJFTxCTzdv12ODmjF1O\n",
            "To: /content/Reviews.csv\n",
            "100% 301M/301M [00:07<00:00, 39.2MB/s]\n"
          ]
        }
      ]
    },
    {
      "cell_type": "code",
      "metadata": {
        "id": "33M3GUYuJkNF"
      },
      "source": [
        "import pandas as pd\n",
        "import time"
      ],
      "execution_count": null,
      "outputs": []
    },
    {
      "cell_type": "code",
      "metadata": {
        "id": "cFaR070OJkNJ"
      },
      "source": [
        "df = pd.read_csv(\"Reviews.csv\")"
      ],
      "execution_count": null,
      "outputs": []
    },
    {
      "cell_type": "code",
      "metadata": {
        "colab": {
          "base_uri": "https://localhost:8080/",
          "height": 335
        },
        "id": "tmsMEJjEJkNK",
        "outputId": "ae941bbb-c45c-40ff-8abb-4f8dcd49d521"
      },
      "source": [
        "df.head(2)"
      ],
      "execution_count": null,
      "outputs": [
        {
          "output_type": "execute_result",
          "data": {
            "text/html": [
              "<div>\n",
              "<style scoped>\n",
              "    .dataframe tbody tr th:only-of-type {\n",
              "        vertical-align: middle;\n",
              "    }\n",
              "\n",
              "    .dataframe tbody tr th {\n",
              "        vertical-align: top;\n",
              "    }\n",
              "\n",
              "    .dataframe thead th {\n",
              "        text-align: right;\n",
              "    }\n",
              "</style>\n",
              "<table border=\"1\" class=\"dataframe\">\n",
              "  <thead>\n",
              "    <tr style=\"text-align: right;\">\n",
              "      <th></th>\n",
              "      <th>Id</th>\n",
              "      <th>ProductId</th>\n",
              "      <th>UserId</th>\n",
              "      <th>ProfileName</th>\n",
              "      <th>HelpfulnessNumerator</th>\n",
              "      <th>HelpfulnessDenominator</th>\n",
              "      <th>Score</th>\n",
              "      <th>Time</th>\n",
              "      <th>Summary</th>\n",
              "      <th>Text</th>\n",
              "    </tr>\n",
              "  </thead>\n",
              "  <tbody>\n",
              "    <tr>\n",
              "      <th>0</th>\n",
              "      <td>1</td>\n",
              "      <td>B001E4KFG0</td>\n",
              "      <td>A3SGXH7AUHU8GW</td>\n",
              "      <td>delmartian</td>\n",
              "      <td>1</td>\n",
              "      <td>1</td>\n",
              "      <td>5</td>\n",
              "      <td>1303862400</td>\n",
              "      <td>Good Quality Dog Food</td>\n",
              "      <td>I have bought several of the Vitality canned d...</td>\n",
              "    </tr>\n",
              "    <tr>\n",
              "      <th>1</th>\n",
              "      <td>2</td>\n",
              "      <td>B00813GRG4</td>\n",
              "      <td>A1D87F6ZCVE5NK</td>\n",
              "      <td>dll pa</td>\n",
              "      <td>0</td>\n",
              "      <td>0</td>\n",
              "      <td>1</td>\n",
              "      <td>1346976000</td>\n",
              "      <td>Not as Advertised</td>\n",
              "      <td>Product arrived labeled as Jumbo Salted Peanut...</td>\n",
              "    </tr>\n",
              "  </tbody>\n",
              "</table>\n",
              "</div>"
            ],
            "text/plain": [
              "   Id  ...                                               Text\n",
              "0   1  ...  I have bought several of the Vitality canned d...\n",
              "1   2  ...  Product arrived labeled as Jumbo Salted Peanut...\n",
              "\n",
              "[2 rows x 10 columns]"
            ]
          },
          "metadata": {},
          "execution_count": 4
        }
      ]
    },
    {
      "cell_type": "markdown",
      "metadata": {
        "id": "DJCWn5cFJkNM"
      },
      "source": [
        "# **Description of Attributes**"
      ]
    },
    {
      "cell_type": "markdown",
      "metadata": {
        "id": "rCdrg-bZJkNO"
      },
      "source": [
        "1. **Id** - Row Id\n",
        "\n",
        "2. **ProductId** - Unique identifier for the product\n",
        "\n",
        "3. **UserId** - Unique identifier for the user\n",
        "\n",
        "4. **ProfileName** - Profile name of the user\n",
        "\n",
        "5. **HelpfulnessNumerator** - Number of users who found the review helpful\n",
        "\n",
        "6. **HelpfulnessDenominator** - Number of users who indicated whether they found the review helpful or not\n",
        "\n",
        "7. **Score** - Rating between 1 and 5\n",
        "\n",
        "8. **Time** - Timestamp for the review\n",
        "\n",
        "9. **Summary** - Brief summary of the review\n",
        "\n",
        "10. **Text** - Text of the review"
      ]
    },
    {
      "cell_type": "markdown",
      "metadata": {
        "id": "2FbOGLkcJkNP"
      },
      "source": [
        "#**Exploratory Data Analysis**"
      ]
    },
    {
      "cell_type": "code",
      "metadata": {
        "colab": {
          "base_uri": "https://localhost:8080/"
        },
        "id": "VgBaO-4WJkNQ",
        "outputId": "0b1ddd7a-caa2-4ea3-fbdb-a85daeb7317a"
      },
      "source": [
        "print(\"The number of reviews present in the file :\",df.shape[0])\n",
        "print(\"The number of unique users who have reviewed :\",df[\"UserId\"].nunique())\n",
        "print(\"The number of unique products which has been reviewed :\",df[\"ProductId\"].nunique())\n",
        "more_than_50_reviews = df.groupby(\"UserId\").size().where(lambda x:x>50).count()\n",
        "print(\"Users with more than 50 reviews :\",more_than_50_reviews)\n",
        "timeline = f\"{time.strftime('%b %Y', time.localtime(df['Time'].min()))} - {time.strftime('%b %Y', time.localtime(df['Time'].max()))}\"\n",
        "print(\"The timeline of reviews :\",timeline)"
      ],
      "execution_count": null,
      "outputs": [
        {
          "output_type": "stream",
          "name": "stdout",
          "text": [
            "The number of reviews present in the file : 568454\n",
            "The number of unique users who have reviewed : 256059\n",
            "The number of unique products which has been reviewed : 74258\n",
            "Users with more than 50 reviews : 260\n",
            "The timeline of reviews : Oct 1999 - Oct 2012\n"
          ]
        }
      ]
    },
    {
      "cell_type": "code",
      "metadata": {
        "colab": {
          "base_uri": "https://localhost:8080/"
        },
        "id": "dnccIro7JkNR",
        "outputId": "3f32da82-7442-43d4-a211-51631e1e8973"
      },
      "source": [
        "df.info()"
      ],
      "execution_count": null,
      "outputs": [
        {
          "output_type": "stream",
          "name": "stdout",
          "text": [
            "<class 'pandas.core.frame.DataFrame'>\n",
            "RangeIndex: 568454 entries, 0 to 568453\n",
            "Data columns (total 10 columns):\n",
            " #   Column                  Non-Null Count   Dtype \n",
            "---  ------                  --------------   ----- \n",
            " 0   Id                      568454 non-null  int64 \n",
            " 1   ProductId               568454 non-null  object\n",
            " 2   UserId                  568454 non-null  object\n",
            " 3   ProfileName             568438 non-null  object\n",
            " 4   HelpfulnessNumerator    568454 non-null  int64 \n",
            " 5   HelpfulnessDenominator  568454 non-null  int64 \n",
            " 6   Score                   568454 non-null  int64 \n",
            " 7   Time                    568454 non-null  int64 \n",
            " 8   Summary                 568427 non-null  object\n",
            " 9   Text                    568454 non-null  object\n",
            "dtypes: int64(5), object(5)\n",
            "memory usage: 43.4+ MB\n"
          ]
        }
      ]
    },
    {
      "cell_type": "code",
      "metadata": {
        "colab": {
          "base_uri": "https://localhost:8080/"
        },
        "id": "nE30CrnwJkNS",
        "outputId": "d8416e48-cf5c-4d01-eb3c-8c249dadfd99"
      },
      "source": [
        "df_shape = df.shape\n",
        "print(\"No. of Datapoints :\",df_shape[0])\n",
        "print(\"No. of Features :\",df_shape[1])"
      ],
      "execution_count": null,
      "outputs": [
        {
          "output_type": "stream",
          "name": "stdout",
          "text": [
            "No. of Datapoints : 568454\n",
            "No. of Features : 10\n"
          ]
        }
      ]
    },
    {
      "cell_type": "markdown",
      "metadata": {
        "id": "6KGSkfjtJkNT"
      },
      "source": [
        "## Data points with missing values"
      ]
    },
    {
      "cell_type": "code",
      "metadata": {
        "colab": {
          "base_uri": "https://localhost:8080/"
        },
        "id": "7IgOM5c2JkNU",
        "outputId": "f3cb0151-aa10-4f90-9032-81c06588762f"
      },
      "source": [
        "df.isnull().sum()"
      ],
      "execution_count": null,
      "outputs": [
        {
          "output_type": "execute_result",
          "data": {
            "text/plain": [
              "Id                         0\n",
              "ProductId                  0\n",
              "UserId                     0\n",
              "ProfileName               16\n",
              "HelpfulnessNumerator       0\n",
              "HelpfulnessDenominator     0\n",
              "Score                      0\n",
              "Time                       0\n",
              "Summary                   27\n",
              "Text                       0\n",
              "dtype: int64"
            ]
          },
          "metadata": {},
          "execution_count": 8
        }
      ]
    },
    {
      "cell_type": "markdown",
      "metadata": {
        "id": "Pi80WpDKJkNV"
      },
      "source": [
        "There are missing values in the dataset let's check them out"
      ]
    },
    {
      "cell_type": "markdown",
      "metadata": {
        "id": "ckaIRcKTJkNW"
      },
      "source": [
        "### Peak the datapoints having 'ProfileName' Feature as Null"
      ]
    },
    {
      "cell_type": "code",
      "metadata": {
        "colab": {
          "base_uri": "https://localhost:8080/",
          "height": 901
        },
        "id": "UWc4CqZGJkNW",
        "outputId": "6ccdd8f3-2d1b-40cb-865a-a0f37aadc810"
      },
      "source": [
        "with pd.option_context('display.max_colwidth', -1):\n",
        "    display(df[df[\"ProfileName\"].isnull()].head(1))"
      ],
      "execution_count": null,
      "outputs": [
        {
          "output_type": "display_data",
          "data": {
            "text/html": [
              "<div>\n",
              "<style scoped>\n",
              "    .dataframe tbody tr th:only-of-type {\n",
              "        vertical-align: middle;\n",
              "    }\n",
              "\n",
              "    .dataframe tbody tr th {\n",
              "        vertical-align: top;\n",
              "    }\n",
              "\n",
              "    .dataframe thead th {\n",
              "        text-align: right;\n",
              "    }\n",
              "</style>\n",
              "<table border=\"1\" class=\"dataframe\">\n",
              "  <thead>\n",
              "    <tr style=\"text-align: right;\">\n",
              "      <th></th>\n",
              "      <th>Id</th>\n",
              "      <th>ProductId</th>\n",
              "      <th>UserId</th>\n",
              "      <th>ProfileName</th>\n",
              "      <th>HelpfulnessNumerator</th>\n",
              "      <th>HelpfulnessDenominator</th>\n",
              "      <th>Score</th>\n",
              "      <th>Time</th>\n",
              "      <th>Summary</th>\n",
              "      <th>Text</th>\n",
              "    </tr>\n",
              "  </thead>\n",
              "  <tbody>\n",
              "    <tr>\n",
              "      <th>25509</th>\n",
              "      <td>25510</td>\n",
              "      <td>B000LKZB4Y</td>\n",
              "      <td>A36BVYD0NT7Z0F</td>\n",
              "      <td>NaN</td>\n",
              "      <td>0</td>\n",
              "      <td>0</td>\n",
              "      <td>5</td>\n",
              "      <td>1314576000</td>\n",
              "      <td>These are the best mints and no aspartame or BHT</td>\n",
              "      <td>I was so shocked to find out that almost all gums have BHT.  I went to the health food store and got gum with Xylitol but I didn't like the taste.  B Fresh was the only one with Xylitol that didn't taste like aspartame.  I saw Newmans Own Organic Mints and was happy to see no aspartame or BHT and they are really good.  I hope the company starts making gum.  The only problem is the mints are made in Mexico.  What is the matter Americans can't make mints?</td>\n",
              "    </tr>\n",
              "  </tbody>\n",
              "</table>\n",
              "</div>"
            ],
            "text/plain": [
              "          Id  ...                                                                                                                                                                                                                                                                                                                                                                                                                                                                       Text\n",
              "25509  25510  ...  I was so shocked to find out that almost all gums have BHT.  I went to the health food store and got gum with Xylitol but I didn't like the taste.  B Fresh was the only one with Xylitol that didn't taste like aspartame.  I saw Newmans Own Organic Mints and was happy to see no aspartame or BHT and they are really good.  I hope the company starts making gum.  The only problem is the mints are made in Mexico.  What is the matter Americans can't make mints?\n",
              "\n",
              "[1 rows x 10 columns]"
            ]
          },
          "metadata": {}
        }
      ]
    },
    {
      "cell_type": "markdown",
      "metadata": {
        "id": "VMBcGf3jJkNY"
      },
      "source": [
        "**Observation** : Eventhough Profile Name is missing, user ID remains intact which uniquely allows you to identify every user so no need to drop them."
      ]
    },
    {
      "cell_type": "markdown",
      "metadata": {
        "id": "aJwsTaM-JkNY"
      },
      "source": [
        "### Peak the datapoints having 'Summary' Feature as Null"
      ]
    },
    {
      "cell_type": "code",
      "metadata": {
        "colab": {
          "base_uri": "https://localhost:8080/",
          "height": 608
        },
        "id": "hgyYHDuRJkNZ",
        "outputId": "d535a6e9-1da0-49b2-cc78-69e02ae3f1c1"
      },
      "source": [
        "with pd.option_context('display.max_colwidth', -1):\n",
        "    display(df[df[\"Summary\"].isnull()].head(2))"
      ],
      "execution_count": null,
      "outputs": [
        {
          "output_type": "display_data",
          "data": {
            "text/html": [
              "<div>\n",
              "<style scoped>\n",
              "    .dataframe tbody tr th:only-of-type {\n",
              "        vertical-align: middle;\n",
              "    }\n",
              "\n",
              "    .dataframe tbody tr th {\n",
              "        vertical-align: top;\n",
              "    }\n",
              "\n",
              "    .dataframe thead th {\n",
              "        text-align: right;\n",
              "    }\n",
              "</style>\n",
              "<table border=\"1\" class=\"dataframe\">\n",
              "  <thead>\n",
              "    <tr style=\"text-align: right;\">\n",
              "      <th></th>\n",
              "      <th>Id</th>\n",
              "      <th>ProductId</th>\n",
              "      <th>UserId</th>\n",
              "      <th>ProfileName</th>\n",
              "      <th>HelpfulnessNumerator</th>\n",
              "      <th>HelpfulnessDenominator</th>\n",
              "      <th>Score</th>\n",
              "      <th>Time</th>\n",
              "      <th>Summary</th>\n",
              "      <th>Text</th>\n",
              "    </tr>\n",
              "  </thead>\n",
              "  <tbody>\n",
              "    <tr>\n",
              "      <th>33958</th>\n",
              "      <td>33959</td>\n",
              "      <td>B00412W76S</td>\n",
              "      <td>A3TJPSWY2HE4BS</td>\n",
              "      <td>S. Layton \"homeschool blogger\"</td>\n",
              "      <td>1</td>\n",
              "      <td>24</td>\n",
              "      <td>2</td>\n",
              "      <td>1173312000</td>\n",
              "      <td>NaN</td>\n",
              "      <td>I only used two maybe three tea bags and got pregnant - can not drink during pregnancy.  Not a bad taste, but I'm not a big tea fan either.</td>\n",
              "    </tr>\n",
              "    <tr>\n",
              "      <th>40548</th>\n",
              "      <td>40549</td>\n",
              "      <td>B00020HHRW</td>\n",
              "      <td>A3TJPSWY2HE4BS</td>\n",
              "      <td>S. Layton \"homeschool blogger\"</td>\n",
              "      <td>1</td>\n",
              "      <td>24</td>\n",
              "      <td>2</td>\n",
              "      <td>1173312000</td>\n",
              "      <td>NaN</td>\n",
              "      <td>I only used two maybe three tea bags and got pregnant - can not drink during pregnancy.  Not a bad taste, but I'm not a big tea fan either.</td>\n",
              "    </tr>\n",
              "  </tbody>\n",
              "</table>\n",
              "</div>"
            ],
            "text/plain": [
              "          Id  ...                                                                                                                                         Text\n",
              "33958  33959  ...  I only used two maybe three tea bags and got pregnant - can not drink during pregnancy.  Not a bad taste, but I'm not a big tea fan either.\n",
              "40548  40549  ...  I only used two maybe three tea bags and got pregnant - can not drink during pregnancy.  Not a bad taste, but I'm not a big tea fan either.\n",
              "\n",
              "[2 rows x 10 columns]"
            ]
          },
          "metadata": {}
        }
      ]
    },
    {
      "cell_type": "markdown",
      "metadata": {
        "id": "X9-levzeJkNZ"
      },
      "source": [
        "**Observations**:\n",
        "\n",
        "1. The sample reviews above dont have a summary/title. But nothing to be concerned about since the 'text' corresponding to it is present, which may provide much more info about the review context/message.\n",
        "2. On a closer look, their text(review) attribute are all duplicated.\n",
        "3. Everything except the 'ProductId' are same, even time. \n",
        "4. So, we may safely presume that when a product has different variants(stock-keeping unit (SKU)), review written for any one of the variant gets replicated for all the other variants and Each Product-Variant Combo gets assigned a different ProductId.\n",
        "5. We may delete the duplicated data in further steps. "
      ]
    },
    {
      "cell_type": "code",
      "metadata": {
        "colab": {
          "base_uri": "https://localhost:8080/"
        },
        "id": "flybYffXJkNo",
        "outputId": "a4b6861b-ea2f-4df6-ea63-03e3adcb0d11"
      },
      "source": [
        "from matplotlib import pyplot as plt\n",
        "%matplotlib inline\n",
        "import seaborn as sns\n",
        "import warnings\n",
        "warnings.filterwarnings(\"ignore\")\n",
        "\n",
        "plt.figure(figsize=(10,5))\n",
        "sns.countplot(df['Score'], palette=sns.color_palette(\"RdYlGn\", 5))\n",
        "plt.title(\"Distribution of Ratings across the entire dataset\", fontsize=16)\n",
        "plt.xlabel(\"Ratings of Reviews\")\n",
        "plt.ylabel(\"Number of reviews corresponding to each of 5 ratings\")\n",
        "plt.show();"
      ],
      "execution_count": null,
      "outputs": [
        {
          "output_type": "display_data",
          "data": {
            "image/png": "[encoded data removed]",
            "text/plain": [
              "<Figure size 720x360 with 1 Axes>"
            ]
          },
          "metadata": {
            "needs_background": "light"
          }
        }
      ]
    },
    {
      "cell_type": "code",
      "metadata": {
        "colab": {
          "base_uri": "https://localhost:8080/",
          "height": 409
        },
        "id": "-pKY9hnbJkNp",
        "outputId": "399e3f42-c9f6-463b-ecbd-6bbeacb7c61d"
      },
      "source": [
        "# Pie chart, where the slices will be ordered and plotted counter-clockwise:\n",
        "labels = [f'{k} ({df[\"Score\"].value_counts()[k]} samples)' for k in df['Score'].value_counts().keys()]\n",
        "sizes = dict(df['Score'].value_counts()).values()\n",
        "\n",
        "fig1, ax1 = plt.subplots(figsize=(6,6))\n",
        "ax1.pie(sizes, labels=labels, autopct='%1.1f%%',\n",
        "        shadow=True, startangle=90)\n",
        "ax1.axis('equal') \n",
        "ax1.set_title(\"Distribution of ratings in reviews\",pad=40, fontsize=16)\n",
        "plt.show();"
      ],
      "execution_count": null,
      "outputs": [
        {
          "output_type": "display_data",
          "data": {
            "image/png": "[encoded data removed]",
            "text/plain": [
              "<Figure size 432x432 with 1 Axes>"
            ]
          },
          "metadata": {}
        }
      ]
    },
    {
      "cell_type": "markdown",
      "metadata": {
        "id": "F0OqisVkJkNs"
      },
      "source": [
        "**Observation**:\n",
        "\n",
        "1. ~78 percent of the reviews in the dataset are positive reviews having ratings >3 (4 and 5)\n",
        "2. ~14 percent of the reviews in the dataset are negative reviews having ratings <3 (1 and 2)\n",
        "3. Remaining ~8 percent reviews have a rating of 3.\n",
        "4. Since a major portion of the reviews are positive, we can say that most of the users have a good experience with their purchases."
      ]
    },
    {
      "cell_type": "markdown",
      "metadata": {
        "id": "Wr8_wiOaJkNs"
      },
      "source": [
        "# **Data Cleaning**"
      ]
    },
    {
      "cell_type": "markdown",
      "metadata": {
        "id": "MH9Zu96fJkNt"
      },
      "source": [
        "## Check and Delete Duplicate Reviews"
      ]
    },
    {
      "cell_type": "code",
      "metadata": {
        "colab": {
          "base_uri": "https://localhost:8080/"
        },
        "id": "wCal_CCcJkNt",
        "outputId": "a6f3858e-b855-4f7e-db13-a0225cd14fd8"
      },
      "source": [
        "mask_duplicated_reviews = df.duplicated(subset=[\"UserId\",\"Time\",\"Text\"], keep='first')\n",
        "count_duplicated_reviews = mask_duplicated_reviews.value_counts()\n",
        "\n",
        "sum_reviews = count_duplicated_reviews.sum()\n",
        "perc_duplicated_reviews = (count_duplicated_reviews/sum_reviews) * 100\n",
        "\n",
        "print(\"Count of duplicated reviews\",count_duplicated_reviews[True])\n",
        "print(\"Percentage of duplicated reviews\",round(perc_duplicated_reviews[True],2),\"%\")\n",
        "print(\"Count of original reviews\",count_duplicated_reviews[False])\n",
        "print(\"Count of original reviews\",round(perc_duplicated_reviews[False],2),\"%\")\n"
      ],
      "execution_count": null,
      "outputs": [
        {
          "output_type": "stream",
          "name": "stdout",
          "text": [
            "Count of duplicated reviews 174562\n",
            "Percentage of duplicated reviews 30.71 %\n",
            "Count of original reviews 393892\n",
            "Count of original reviews 69.29 %\n"
          ]
        }
      ]
    },
    {
      "cell_type": "markdown",
      "metadata": {
        "id": "WzwmdZWaJkNu"
      },
      "source": [
        "**Observation**:\n",
        "We have about 1.75 lakh reviews(~30% of total reviews) which are duplicated across product variants. Basically reviews by the same user at the same time with same review text."
      ]
    },
    {
      "cell_type": "code",
      "metadata": {
        "colab": {
          "base_uri": "https://localhost:8080/"
        },
        "id": "_ErA75BIJkNv",
        "outputId": "ee3e8791-c48a-45ce-efec-d27784d25be9"
      },
      "source": [
        "#Updating dataframe to include only original(non-duplicated) reviews\n",
        "df = df[~mask_duplicated_reviews]\n",
        "print(\"Updated number of Datapoints :\",df.shape[0])"
      ],
      "execution_count": null,
      "outputs": [
        {
          "output_type": "stream",
          "name": "stdout",
          "text": [
            "Updated number of Datapoints : 393892\n"
          ]
        }
      ]
    },
    {
      "cell_type": "markdown",
      "metadata": {
        "id": "vb4yUsQPJkNv"
      },
      "source": [
        "## Check and Remove 3 Star(Neutral) Reviews"
      ]
    },
    {
      "cell_type": "markdown",
      "metadata": {
        "id": "vf9uNOxmJkNw"
      },
      "source": [
        "### Count and Proportion of 3 star reviews"
      ]
    },
    {
      "cell_type": "code",
      "metadata": {
        "colab": {
          "base_uri": "https://localhost:8080/"
        },
        "id": "Au3LGtlKJkNw",
        "outputId": "a1652555-55be-49c7-dbe0-df305beeb8bd"
      },
      "source": [
        "print(\"Number of three star reviews :\",df[df['Score']==3].shape[0])\n",
        "print(\"Percentage of three star reviews :\",round((df[df['Score']==3].shape[0]/df.shape[0])*100,2))"
      ],
      "execution_count": null,
      "outputs": [
        {
          "output_type": "stream",
          "name": "stdout",
          "text": [
            "Number of three star reviews : 29768\n",
            "Percentage of three star reviews : 7.56\n"
          ]
        }
      ]
    },
    {
      "cell_type": "markdown",
      "metadata": {
        "id": "sozgAD7AJkNx"
      },
      "source": [
        "We will build a model which will tag an unseen review as positive or negative. If the scores were between 1 and 10(inclusive), we could have assigned the class label as 'Negative' for reviews with scores [1,2,3,4,5] and 'Positive' for reviews with scores [6,7,8,9,10]. But here since we have scores between 1 and 5(inclusive), we don't have an option to divide the scores in two equal classes. If we were to do that either all the reviews with score of 3 had to be discarded(then reviews with scores [1,2] would fall in 'Negative' class and [4,5] would fall in 'Positive' class) or we could take a decision to either include score '3' reviews in either 'Negative' or 'Positive' Class. Or we could make this a Multiclass Classification Problem (Negative, Neutral and Positive) instead of the current Binary Classification Problem."
      ]
    },
    {
      "cell_type": "markdown",
      "metadata": {
        "id": "88dSvOyLJkNx"
      },
      "source": [
        "### Peak the datapoints having a 'Score' of 3"
      ]
    },
    {
      "cell_type": "code",
      "metadata": {
        "colab": {
          "base_uri": "https://localhost:8080/",
          "height": 1000
        },
        "id": "y0yyDbrxJkNy",
        "outputId": "96785123-0070-4e74-c5af-41fd5f18fd69"
      },
      "source": [
        "df_review_3 = df[df[\"Score\"]==3].loc[:,[\"Id\",\"Score\",\"Text\"]]\n",
        "with pd.option_context('display.max_colwidth', -1):\n",
        "    display(df_review_3.head(10))"
      ],
      "execution_count": null,
      "outputs": [
        {
          "output_type": "display_data",
          "data": {
            "text/html": [
              "<div>\n",
              "<style scoped>\n",
              "    .dataframe tbody tr th:only-of-type {\n",
              "        vertical-align: middle;\n",
              "    }\n",
              "\n",
              "    .dataframe tbody tr th {\n",
              "        vertical-align: top;\n",
              "    }\n",
              "\n",
              "    .dataframe thead th {\n",
              "        text-align: right;\n",
              "    }\n",
              "</style>\n",
              "<table border=\"1\" class=\"dataframe\">\n",
              "  <thead>\n",
              "    <tr style=\"text-align: right;\">\n",
              "      <th></th>\n",
              "      <th>Id</th>\n",
              "      <th>Score</th>\n",
              "      <th>Text</th>\n",
              "    </tr>\n",
              "  </thead>\n",
              "  <tbody>\n",
              "    <tr>\n",
              "      <th>45</th>\n",
              "      <td>46</td>\n",
              "      <td>3</td>\n",
              "      <td>This seems a little more wholesome than some of the supermarket brands, but it is somewhat mushy and doesn't have quite as much flavor either.  It didn't pass muster with my kids, so I probably won't buy it again.</td>\n",
              "    </tr>\n",
              "    <tr>\n",
              "      <th>47</th>\n",
              "      <td>48</td>\n",
              "      <td>3</td>\n",
              "      <td>The flavors are good.  However, I do not see any differce between this and Oaker Oats brand - they are both mushy.</td>\n",
              "    </tr>\n",
              "    <tr>\n",
              "      <th>49</th>\n",
              "      <td>50</td>\n",
              "      <td>3</td>\n",
              "      <td>This is the same stuff you can buy at the big box stores.  There is nothing healthy about it.  It is just carbs and sugars.  Save your money and get something that at least has some taste.</td>\n",
              "    </tr>\n",
              "    <tr>\n",
              "      <th>53</th>\n",
              "      <td>54</td>\n",
              "      <td>3</td>\n",
              "      <td>we're used to spicy foods down here in south texas and these are not at all spicy.  doubt very much habanero is used at all.  could take it up a notch or two.</td>\n",
              "    </tr>\n",
              "    <tr>\n",
              "      <th>60</th>\n",
              "      <td>61</td>\n",
              "      <td>3</td>\n",
              "      <td>Watch your prices with this.  While the assortment was good, and I did get this on a gold box purchase, the price for this was&lt;br /&gt;$3-4 less at Target.</td>\n",
              "    </tr>\n",
              "    <tr>\n",
              "      <th>68</th>\n",
              "      <td>69</td>\n",
              "      <td>3</td>\n",
              "      <td>If you're impulsive like me, then $6 is ok. Don't get me wrong, the quality of these babies is very good and I have no complaints. But in retrospect, the price is a little ridiculous (esp. when you add on the shipping).</td>\n",
              "    </tr>\n",
              "    <tr>\n",
              "      <th>78</th>\n",
              "      <td>79</td>\n",
              "      <td>3</td>\n",
              "      <td>The taste was great, but the berries had melted.  May order again in winter. If you order in cold weather you should enjoy flavor.</td>\n",
              "    </tr>\n",
              "    <tr>\n",
              "      <th>83</th>\n",
              "      <td>84</td>\n",
              "      <td>3</td>\n",
              "      <td>While my dogs like all of the flavors that we have tried of this dog food, for some reason their itching increased when I tried the lamb and rice. I have some very itchy dogs and am giving them a limited ingredient dog food to try to help. The duck and sweet potato cut down on the itching significantly, but when we tried lamb and rice they started itching more once again. I like Natural Balance for the quality ingredients.</td>\n",
              "    </tr>\n",
              "    <tr>\n",
              "      <th>84</th>\n",
              "      <td>85</td>\n",
              "      <td>3</td>\n",
              "      <td>Awesome dog food. However, when given to my \"Boston\", who has severe reactions to some food ingredients; his itching increased to violent jumping out of bed at night, scratching. As soon as I changed to a different formula, the scratching stopped. So glad Natural Balance has other choices. I guess you have to try each, until you find what's best for your pet.</td>\n",
              "    </tr>\n",
              "    <tr>\n",
              "      <th>106</th>\n",
              "      <td>107</td>\n",
              "      <td>3</td>\n",
              "      <td>not what I was expecting in terms of the company's reputation for excellent home delivery products</td>\n",
              "    </tr>\n",
              "  </tbody>\n",
              "</table>\n",
              "</div>"
            ],
            "text/plain": [
              "      Id  ...                                                                                                                                                                                                                                                                                                                                                                                                                                        Text\n",
              "45   46   ...  This seems a little more wholesome than some of the supermarket brands, but it is somewhat mushy and doesn't have quite as much flavor either.  It didn't pass muster with my kids, so I probably won't buy it again.                                                                                                                                                                                                                     \n",
              "47   48   ...  The flavors are good.  However, I do not see any differce between this and Oaker Oats brand - they are both mushy.                                                                                                                                                                                                                                                                                                                        \n",
              "49   50   ...  This is the same stuff you can buy at the big box stores.  There is nothing healthy about it.  It is just carbs and sugars.  Save your money and get something that at least has some taste.                                                                                                                                                                                                                                              \n",
              "53   54   ...  we're used to spicy foods down here in south texas and these are not at all spicy.  doubt very much habanero is used at all.  could take it up a notch or two.                                                                                                                                                                                                                                                                            \n",
              "60   61   ...  Watch your prices with this.  While the assortment was good, and I did get this on a gold box purchase, the price for this was<br />$3-4 less at Target.                                                                                                                                                                                                                                                                                  \n",
              "68   69   ...  If you're impulsive like me, then $6 is ok. Don't get me wrong, the quality of these babies is very good and I have no complaints. But in retrospect, the price is a little ridiculous (esp. when you add on the shipping).                                                                                                                                                                                                               \n",
              "78   79   ...  The taste was great, but the berries had melted.  May order again in winter. If you order in cold weather you should enjoy flavor.                                                                                                                                                                                                                                                                                                        \n",
              "83   84   ...  While my dogs like all of the flavors that we have tried of this dog food, for some reason their itching increased when I tried the lamb and rice. I have some very itchy dogs and am giving them a limited ingredient dog food to try to help. The duck and sweet potato cut down on the itching significantly, but when we tried lamb and rice they started itching more once again. I like Natural Balance for the quality ingredients.\n",
              "84   85   ...  Awesome dog food. However, when given to my \"Boston\", who has severe reactions to some food ingredients; his itching increased to violent jumping out of bed at night, scratching. As soon as I changed to a different formula, the scratching stopped. So glad Natural Balance has other choices. I guess you have to try each, until you find what's best for your pet.                                                                 \n",
              "106  107  ...  not what I was expecting in terms of the company's reputation for excellent home delivery products                                                                                                                                                                                                                                                                                                                                        \n",
              "\n",
              "[10 rows x 3 columns]"
            ]
          },
          "metadata": {}
        }
      ]
    },
    {
      "cell_type": "markdown",
      "metadata": {
        "id": "DVuvOjpVJkNy"
      },
      "source": [
        "**Observations**:\n",
        "* For reviews with index 83 and 84, it talks about how the dog food is great and liked by the dog, but it has a side effect of itching with it. Now this may be not be observed by all the users and here in this case we may conclude that the dog may be allergic with an ingredient that goes into the product. Type - **Case Specific**\n",
        "* For review with index 78, the customer talks about how the product doesnt taste great in hot weather. Type - **Situational**\n",
        "* For reviews with index 60 and 68, the main concern is about the price of the product which is kind of a secondary aspect about the product. Type - **Price Concern**\n",
        "* For reviews with index 45, 47, 106, there is something wrong with respect to the product which may be termed as a negative review. Type - **Negative Review**\n",
        "* For reviews with index 49, 53, Expectation of the user with respect to taste, health, quality were not met by the product which again may be termed as a negative review. Type - **Negative Review**\n",
        "\n",
        "> * Since we have a mix of Negative Reviews as well as Neutral Reviews, we can't assign them to 'Negative' Class. That leaves us with the option of discarding all the reviews having a Score of 3.\n"
      ]
    },
    {
      "cell_type": "markdown",
      "metadata": {
        "id": "mYq5u6CSJkNz"
      },
      "source": [
        "### Discard all reviews having a Score of 3"
      ]
    },
    {
      "cell_type": "code",
      "metadata": {
        "colab": {
          "base_uri": "https://localhost:8080/"
        },
        "id": "dKrsmLHIJkNz",
        "outputId": "4c40eba8-f808-4d4a-d45b-d9b0487250fb"
      },
      "source": [
        "print(\"Number of Datapoints BEFORE discarding :\",df.shape[0])\n",
        "\n",
        "df = df[df[\"Score\"]!=3]\n",
        "\n",
        "print(\"Number of Datapoints AFTER discarding :\",df.shape[0])\n"
      ],
      "execution_count": null,
      "outputs": [
        {
          "output_type": "stream",
          "name": "stdout",
          "text": [
            "Number of Datapoints BEFORE discarding : 393892\n",
            "Number of Datapoints AFTER discarding : 364124\n"
          ]
        }
      ]
    },
    {
      "cell_type": "markdown",
      "metadata": {
        "id": "NoBj9HrbJkN0"
      },
      "source": [
        "## Discarding reviews having inconsistencies"
      ]
    },
    {
      "cell_type": "markdown",
      "metadata": {
        "id": "JkmaC2RxJkN1"
      },
      "source": [
        "**Helpfulness numerator should not be more than Helpfulness denominator**"
      ]
    },
    {
      "cell_type": "code",
      "metadata": {
        "colab": {
          "base_uri": "https://localhost:8080/",
          "height": 335
        },
        "id": "8gHtQ7B7JkN1",
        "outputId": "5e93d781-3f0b-41c5-fc05-2a6b5c6181e5"
      },
      "source": [
        "df[df[\"HelpfulnessNumerator\"] > df[\"HelpfulnessDenominator\"]]"
      ],
      "execution_count": null,
      "outputs": [
        {
          "output_type": "execute_result",
          "data": {
            "text/html": [
              "<div>\n",
              "<style scoped>\n",
              "    .dataframe tbody tr th:only-of-type {\n",
              "        vertical-align: middle;\n",
              "    }\n",
              "\n",
              "    .dataframe tbody tr th {\n",
              "        vertical-align: top;\n",
              "    }\n",
              "\n",
              "    .dataframe thead th {\n",
              "        text-align: right;\n",
              "    }\n",
              "</style>\n",
              "<table border=\"1\" class=\"dataframe\">\n",
              "  <thead>\n",
              "    <tr style=\"text-align: right;\">\n",
              "      <th></th>\n",
              "      <th>Id</th>\n",
              "      <th>ProductId</th>\n",
              "      <th>UserId</th>\n",
              "      <th>ProfileName</th>\n",
              "      <th>HelpfulnessNumerator</th>\n",
              "      <th>HelpfulnessDenominator</th>\n",
              "      <th>Score</th>\n",
              "      <th>Time</th>\n",
              "      <th>Summary</th>\n",
              "      <th>Text</th>\n",
              "    </tr>\n",
              "  </thead>\n",
              "  <tbody>\n",
              "    <tr>\n",
              "      <th>44736</th>\n",
              "      <td>44737</td>\n",
              "      <td>B001EQ55RW</td>\n",
              "      <td>A2V0I904FH7ABY</td>\n",
              "      <td>Ram</td>\n",
              "      <td>3</td>\n",
              "      <td>2</td>\n",
              "      <td>4</td>\n",
              "      <td>1212883200</td>\n",
              "      <td>Pure cocoa taste with crunchy almonds inside</td>\n",
              "      <td>It was almost a 'love at first bite' - the per...</td>\n",
              "    </tr>\n",
              "    <tr>\n",
              "      <th>64421</th>\n",
              "      <td>64422</td>\n",
              "      <td>B000MIDROQ</td>\n",
              "      <td>A161DK06JJMCYF</td>\n",
              "      <td>J. E. Stephens \"Jeanne\"</td>\n",
              "      <td>3</td>\n",
              "      <td>1</td>\n",
              "      <td>5</td>\n",
              "      <td>1224892800</td>\n",
              "      <td>Bought This for My Son at College</td>\n",
              "      <td>My son loves spaghetti so I didn't hesitate or...</td>\n",
              "    </tr>\n",
              "  </tbody>\n",
              "</table>\n",
              "</div>"
            ],
            "text/plain": [
              "          Id  ...                                               Text\n",
              "44736  44737  ...  It was almost a 'love at first bite' - the per...\n",
              "64421  64422  ...  My son loves spaghetti so I didn't hesitate or...\n",
              "\n",
              "[2 rows x 10 columns]"
            ]
          },
          "metadata": {},
          "execution_count": 18
        }
      ]
    },
    {
      "cell_type": "markdown",
      "metadata": {
        "id": "DHumq2YrJkN2"
      },
      "source": [
        "We dropping these two datapoints because of inconsistency"
      ]
    },
    {
      "cell_type": "code",
      "metadata": {
        "colab": {
          "base_uri": "https://localhost:8080/"
        },
        "id": "ZNAo3A9RJkN2",
        "outputId": "8c8dd40d-6a30-41c5-cd9b-ca8439eeb3de"
      },
      "source": [
        "print(\"Number of Datapoints BEFORE discarding :\",df.shape[0])\n",
        "\n",
        "df = df[df[\"HelpfulnessNumerator\"] <= df[\"HelpfulnessDenominator\"]]\n",
        "\n",
        "print(\"Number of Datapoints AFTER discarding :\",df.shape[0])\n"
      ],
      "execution_count": null,
      "outputs": [
        {
          "output_type": "stream",
          "name": "stdout",
          "text": [
            "Number of Datapoints BEFORE discarding : 364124\n",
            "Number of Datapoints AFTER discarding : 364122\n"
          ]
        }
      ]
    },
    {
      "cell_type": "markdown",
      "metadata": {
        "id": "nV76QDpUJkN2"
      },
      "source": [
        "# **Feature Engineering**"
      ]
    },
    {
      "cell_type": "markdown",
      "metadata": {
        "id": "am2gE4vRJkN3"
      },
      "source": [
        "### Replacing HelpfulnessNumerator and HelpfulnessDenominator Feature into one feature indicating the HelpfulnessPercentage"
      ]
    },
    {
      "cell_type": "code",
      "metadata": {
        "colab": {
          "base_uri": "https://localhost:8080/"
        },
        "id": "dwLxgVJBJkN3",
        "outputId": "ab7728bb-0500-494d-cffa-8b19ff320266"
      },
      "source": [
        "%%time\n",
        "df[\"Helpfulness_Perc\"] = df[[\"HelpfulnessNumerator\",\"HelpfulnessDenominator\"]].apply(lambda x: ((x[0]/x[1])*100.0) if x[1] else 0.0, axis=1)\n",
        "df = df.drop([\"HelpfulnessNumerator\",\"HelpfulnessDenominator\"], axis=1)\n",
        "df.head()"
      ],
      "execution_count": null,
      "outputs": [
        {
          "output_type": "stream",
          "name": "stdout",
          "text": [
            "CPU times: user 3.78 s, sys: 59.9 ms, total: 3.84 s\n",
            "Wall time: 3.86 s\n"
          ]
        }
      ]
    },
    {
      "cell_type": "code",
      "metadata": {
        "colab": {
          "base_uri": "https://localhost:8080/"
        },
        "id": "dKoq2MLGJkN3",
        "outputId": "fdf0cf4f-6940-43cb-c710-932bf58bc949"
      },
      "source": [
        "plt.figure(figsize=(14,7))\n",
        "plt.hist(df[\"Helpfulness_Perc\"])\n",
        "plt.title(\"Distribution of Helpfulness_Perc\",fontweight='bold', fontsize=15)\n",
        "plt.xticks(range(0,100,2), rotation=45)\n",
        "plt.show();"
      ],
      "execution_count": null,
      "outputs": [
        {
          "output_type": "display_data",
          "data": {
            "image/png": "[encoded data removed]",
            "text/plain": [
              "<Figure size 1008x504 with 1 Axes>"
            ]
          },
          "metadata": {
            "needs_background": "light"
          }
        }
      ]
    },
    {
      "cell_type": "markdown",
      "metadata": {
        "id": "fHhprn0XJkN4"
      },
      "source": [
        "### Lets create a new feature off of 'Helpfulness_Perc' which will be an indicator of helpfulness basis the helpfulness percentage. This will be a 4-class feature.  "
      ]
    },
    {
      "cell_type": "code",
      "metadata": {
        "colab": {
          "base_uri": "https://localhost:8080/"
        },
        "id": "M4PlhC1xJkN4",
        "outputId": "e18856ac-74f7-46e1-ba47-0f11bc06ee8a"
      },
      "source": [
        "dictionary = {\"Condition\" : [\"Helpfulness_Perc >= 75\",\"40 < Helpfulness_Perc < 75\",\"0 < Helpfulness_Perc <= 40\",\"Helpfulness_Perc = 0\"], \"Class\" : [\"Useful\",\"Intermediate\",\"Not Useful\",\"Not Available\"]}\n",
        "pd.DataFrame(dictionary)"
      ],
      "execution_count": null,
      "outputs": [
        {
          "output_type": "execute_result",
          "data": {
            "text/html": [
              "<div>\n",
              "<style scoped>\n",
              "    .dataframe tbody tr th:only-of-type {\n",
              "        vertical-align: middle;\n",
              "    }\n",
              "\n",
              "    .dataframe tbody tr th {\n",
              "        vertical-align: top;\n",
              "    }\n",
              "\n",
              "    .dataframe thead th {\n",
              "        text-align: right;\n",
              "    }\n",
              "</style>\n",
              "<table border=\"1\" class=\"dataframe\">\n",
              "  <thead>\n",
              "    <tr style=\"text-align: right;\">\n",
              "      <th></th>\n",
              "      <th>Condition</th>\n",
              "      <th>Class</th>\n",
              "    </tr>\n",
              "  </thead>\n",
              "  <tbody>\n",
              "    <tr>\n",
              "      <th>0</th>\n",
              "      <td>Helpfulness_Perc &gt;= 75</td>\n",
              "      <td>Useful</td>\n",
              "    </tr>\n",
              "    <tr>\n",
              "      <th>1</th>\n",
              "      <td>40 &lt; Helpfulness_Perc &lt; 75</td>\n",
              "      <td>Intermediate</td>\n",
              "    </tr>\n",
              "    <tr>\n",
              "      <th>2</th>\n",
              "      <td>0 &lt; Helpfulness_Perc &lt;= 40</td>\n",
              "      <td>Not Useful</td>\n",
              "    </tr>\n",
              "    <tr>\n",
              "      <th>3</th>\n",
              "      <td>Helpfulness_Perc = 0</td>\n",
              "      <td>Not Available</td>\n",
              "    </tr>\n",
              "  </tbody>\n",
              "</table>\n",
              "</div>"
            ],
            "text/plain": [
              "                    Condition          Class\n",
              "0      Helpfulness_Perc >= 75         Useful\n",
              "1  40 < Helpfulness_Perc < 75   Intermediate\n",
              "2  0 < Helpfulness_Perc <= 40     Not Useful\n",
              "3        Helpfulness_Perc = 0  Not Available"
            ]
          },
          "metadata": {},
          "execution_count": 22
        }
      ]
    },
    {
      "cell_type": "code",
      "metadata": {
        "colab": {
          "base_uri": "https://localhost:8080/",
          "height": 335
        },
        "id": "AfwjZQ06JkN5",
        "outputId": "1b41e0a9-6e06-4e1b-b303-34848dfd68fe"
      },
      "source": [
        "# Assigning Helpfulness indicator\n",
        "df.loc[df[\"Helpfulness_Perc\"] >= 75, 'Helpfulness_indicator'] = 'Useful'\n",
        "df.loc[(df[\"Helpfulness_Perc\"] > 40) & (df[\"Helpfulness_Perc\"] < 75), 'Helpfulness_indicator'] = 'Intermediate'\n",
        "df.loc[(df[\"Helpfulness_Perc\"] > 0) & (df[\"Helpfulness_Perc\"] <= 40), 'Helpfulness_indicator'] = 'Not Useful'\n",
        "df.loc[df[\"Helpfulness_Perc\"] == 0, 'Helpfulness_indicator'] = 'Not Available'\n",
        "\n",
        "df = df.drop([\"Helpfulness_Perc\"], axis=1)\n",
        "\n",
        "df.head(2)"
      ],
      "execution_count": null,
      "outputs": [
        {
          "output_type": "execute_result",
          "data": {
            "text/html": [
              "<div>\n",
              "<style scoped>\n",
              "    .dataframe tbody tr th:only-of-type {\n",
              "        vertical-align: middle;\n",
              "    }\n",
              "\n",
              "    .dataframe tbody tr th {\n",
              "        vertical-align: top;\n",
              "    }\n",
              "\n",
              "    .dataframe thead th {\n",
              "        text-align: right;\n",
              "    }\n",
              "</style>\n",
              "<table border=\"1\" class=\"dataframe\">\n",
              "  <thead>\n",
              "    <tr style=\"text-align: right;\">\n",
              "      <th></th>\n",
              "      <th>Id</th>\n",
              "      <th>ProductId</th>\n",
              "      <th>UserId</th>\n",
              "      <th>ProfileName</th>\n",
              "      <th>Score</th>\n",
              "      <th>Time</th>\n",
              "      <th>Summary</th>\n",
              "      <th>Text</th>\n",
              "      <th>Helpfulness_indicator</th>\n",
              "    </tr>\n",
              "  </thead>\n",
              "  <tbody>\n",
              "    <tr>\n",
              "      <th>0</th>\n",
              "      <td>1</td>\n",
              "      <td>B001E4KFG0</td>\n",
              "      <td>A3SGXH7AUHU8GW</td>\n",
              "      <td>delmartian</td>\n",
              "      <td>5</td>\n",
              "      <td>1303862400</td>\n",
              "      <td>Good Quality Dog Food</td>\n",
              "      <td>I have bought several of the Vitality canned d...</td>\n",
              "      <td>Useful</td>\n",
              "    </tr>\n",
              "    <tr>\n",
              "      <th>1</th>\n",
              "      <td>2</td>\n",
              "      <td>B00813GRG4</td>\n",
              "      <td>A1D87F6ZCVE5NK</td>\n",
              "      <td>dll pa</td>\n",
              "      <td>1</td>\n",
              "      <td>1346976000</td>\n",
              "      <td>Not as Advertised</td>\n",
              "      <td>Product arrived labeled as Jumbo Salted Peanut...</td>\n",
              "      <td>Not Available</td>\n",
              "    </tr>\n",
              "  </tbody>\n",
              "</table>\n",
              "</div>"
            ],
            "text/plain": [
              "   Id  ... Helpfulness_indicator\n",
              "0   1  ...                Useful\n",
              "1   2  ...         Not Available\n",
              "\n",
              "[2 rows x 9 columns]"
            ]
          },
          "metadata": {},
          "execution_count": 23
        }
      ]
    },
    {
      "cell_type": "code",
      "metadata": {
        "colab": {
          "base_uri": "https://localhost:8080/",
          "height": 143
        },
        "id": "C-5bFwY-JkN5",
        "outputId": "dc924972-9c0d-4df7-c607-2fd1964ecfc6"
      },
      "source": [
        "plt.figure(figsize=(12,7))\n",
        "sns.countplot(df['Helpfulness_indicator'], palette=sns.color_palette(\"RdYlGn\", 4), order=[\"Not Available\",\"Not Useful\",\"Intermediate\",\"Useful\"])\n",
        "plt.title(\"Distribution of Helpfulness_indicator\",fontweight='bold', fontsize=15)\n",
        "plt.xlabel(\"Helpfulness_indicator\")\n",
        "plt.ylabel(\"Number of reviews corresponding to each of 4 Helpfulness_indicator\")\n",
        "plt.show();\n",
        "\n",
        "print(df['Helpfulness_indicator'].value_counts()[[0,3,2,1]]);"
      ],
      "execution_count": null,
      "outputs": [
        {
          "output_type": "display_data",
          "data": {
            "image/png": "[encoded data removed]",
            "text/plain": [
              "<Figure size 864x504 with 1 Axes>"
            ]
          },
          "metadata": {
            "needs_background": "light"
          }
        },
        {
          "output_type": "stream",
          "name": "stdout",
          "text": [
            "Not Available    190788\n",
            "Not Useful         8576\n",
            "Intermediate      23951\n",
            "Useful           140807\n",
            "Name: Helpfulness_indicator, dtype: int64\n"
          ]
        }
      ]
    },
    {
      "cell_type": "code",
      "metadata": {
        "colab": {
          "base_uri": "https://localhost:8080/",
          "height": 54
        },
        "id": "NO-hK1-kJkN5",
        "outputId": "32602011-3bf2-4aa7-bf9f-fc467dcc6924"
      },
      "source": [
        "# Pie chart, where the slices will be ordered and plotted counter-clockwise:\n",
        "labels = [f'{k} ({df[\"Helpfulness_indicator\"].value_counts()[k]} samples)' for k in df['Helpfulness_indicator'].value_counts().keys()]\n",
        "sizes = dict(df['Helpfulness_indicator'].value_counts()).values()\n",
        "\n",
        "fig1, ax1 = plt.subplots(figsize=(5,5));\n",
        "ax1.pie(sizes, labels=labels, autopct='%1.1f%%',\n",
        "        shadow=True, startangle=90)\n",
        "ax1.axis('equal')  # Equal aspect ratio ensures that pie is drawn as a circle.\n",
        "ax1.set_title(\"All Samples\", pad=40,fontweight='bold', fontsize=15)\n",
        "plt.show();"
      ],
      "execution_count": null,
      "outputs": [
        {
          "output_type": "display_data",
          "data": {
            "image/png": "[encoded data removed]",
            "text/plain": [
              "<Figure size 360x360 with 1 Axes>"
            ]
          },
          "metadata": {}
        }
      ]
    },
    {
      "cell_type": "code",
      "metadata": {
        "colab": {
          "base_uri": "https://localhost:8080/",
          "height": 54
        },
        "id": "87ova_dNJkN6",
        "outputId": "910e7ae5-f4da-4f05-826b-b79d45c8281e"
      },
      "source": [
        "# Pie chart, where the slices will be ordered and plotted counter-clockwise:\n",
        "labels = [f'{k} ({df[\"Helpfulness_indicator\"].value_counts()[k]} samples)' for k in ['Useful','Not Useful']]\n",
        "sizes = dict(df['Helpfulness_indicator'].value_counts())\n",
        "sizes.pop('Not Available')\n",
        "sizes.pop('Intermediate')\n",
        "sizes = sizes.values()\n",
        "\n",
        "fig1, ax1 = plt.subplots(figsize=(5,5));\n",
        "ax1.pie(sizes, labels=labels, autopct='%1.1f%%',\n",
        "        shadow=True, startangle=90)\n",
        "ax1.axis('equal')  # Equal aspect ratio ensures that pie is drawn as a circle.\n",
        "ax1.set_title(\"Excluding 'Not Available' and 'Intermediate' Samples\", pad=40, fontweight='bold', fontsize=15)\n",
        "plt.show();"
      ],
      "execution_count": null,
      "outputs": [
        {
          "output_type": "display_data",
          "data": {
            "image/png": "[encoded data removed]",
            "text/plain": [
              "<Figure size 360x360 with 1 Axes>"
            ]
          },
          "metadata": {}
        }
      ]
    },
    {
      "cell_type": "markdown",
      "metadata": {
        "id": "p31CY7H_JkN6"
      },
      "source": [
        "### Observations:\n",
        "* Ignoring 'Not Available' and 'Intermediate'(Since we want to be sure of the fact that it is useful/non-useful) Datapoints, if we look at the count of 'Useful' and 'Not Useful' we can see that **94.3%** of reviews are Useful and **5.7%** are Not Useful"
      ]
    },
    {
      "cell_type": "markdown",
      "metadata": {
        "id": "2uqD92isJkN6"
      },
      "source": [
        "## Assigning 'Sentiment_Class' Feature\n",
        "\n",
        "Score > 3 (4,5) -> Positive  \n",
        "Score < 3 (1,2) -> Negative  "
      ]
    },
    {
      "cell_type": "code",
      "metadata": {
        "id": "b8EqyIcnJkN7"
      },
      "source": [
        "df.loc[df[\"Score\"] > 3, 'Sentiment_Class'] = 'Positive'\n",
        "df.loc[df[\"Score\"] < 3, 'Sentiment_Class'] = 'Negative'"
      ],
      "execution_count": null,
      "outputs": []
    },
    {
      "cell_type": "code",
      "metadata": {
        "colab": {
          "base_uri": "https://localhost:8080/",
          "height": 830
        },
        "id": "lWXGD7BsJkN7",
        "outputId": "bf306df6-6641-4ab3-b02e-a1fd99c09cf8"
      },
      "source": [
        "with pd.option_context('display.max_colwidth', -1):\n",
        "    display(df.head(2))"
      ],
      "execution_count": null,
      "outputs": [
        {
          "output_type": "display_data",
          "data": {
            "text/html": [
              "<div>\n",
              "<style scoped>\n",
              "    .dataframe tbody tr th:only-of-type {\n",
              "        vertical-align: middle;\n",
              "    }\n",
              "\n",
              "    .dataframe tbody tr th {\n",
              "        vertical-align: top;\n",
              "    }\n",
              "\n",
              "    .dataframe thead th {\n",
              "        text-align: right;\n",
              "    }\n",
              "</style>\n",
              "<table border=\"1\" class=\"dataframe\">\n",
              "  <thead>\n",
              "    <tr style=\"text-align: right;\">\n",
              "      <th></th>\n",
              "      <th>Id</th>\n",
              "      <th>ProductId</th>\n",
              "      <th>UserId</th>\n",
              "      <th>ProfileName</th>\n",
              "      <th>Score</th>\n",
              "      <th>Time</th>\n",
              "      <th>Summary</th>\n",
              "      <th>Text</th>\n",
              "      <th>Helpfulness_indicator</th>\n",
              "      <th>Sentiment_Class</th>\n",
              "    </tr>\n",
              "  </thead>\n",
              "  <tbody>\n",
              "    <tr>\n",
              "      <th>0</th>\n",
              "      <td>1</td>\n",
              "      <td>B001E4KFG0</td>\n",
              "      <td>A3SGXH7AUHU8GW</td>\n",
              "      <td>delmartian</td>\n",
              "      <td>5</td>\n",
              "      <td>1303862400</td>\n",
              "      <td>Good Quality Dog Food</td>\n",
              "      <td>I have bought several of the Vitality canned dog food products and have found them all to be of good quality. The product looks more like a stew than a processed meat and it smells better. My Labrador is finicky and she appreciates this product better than  most.</td>\n",
              "      <td>Useful</td>\n",
              "      <td>Positive</td>\n",
              "    </tr>\n",
              "    <tr>\n",
              "      <th>1</th>\n",
              "      <td>2</td>\n",
              "      <td>B00813GRG4</td>\n",
              "      <td>A1D87F6ZCVE5NK</td>\n",
              "      <td>dll pa</td>\n",
              "      <td>1</td>\n",
              "      <td>1346976000</td>\n",
              "      <td>Not as Advertised</td>\n",
              "      <td>Product arrived labeled as Jumbo Salted Peanuts...the peanuts were actually small sized unsalted. Not sure if this was an error or if the vendor intended to represent the product as \"Jumbo\".</td>\n",
              "      <td>Not Available</td>\n",
              "      <td>Negative</td>\n",
              "    </tr>\n",
              "  </tbody>\n",
              "</table>\n",
              "</div>"
            ],
            "text/plain": [
              "   Id   ProductId  ... Helpfulness_indicator Sentiment_Class\n",
              "0  1   B001E4KFG0  ...  Useful                Positive      \n",
              "1  2   B00813GRG4  ...  Not Available         Negative      \n",
              "\n",
              "[2 rows x 10 columns]"
            ]
          },
          "metadata": {}
        }
      ]
    },
    {
      "cell_type": "code",
      "metadata": {
        "colab": {
          "base_uri": "https://localhost:8080/",
          "height": 54
        },
        "id": "EYCea4T4JkN7",
        "outputId": "f2168fac-9faf-42bf-cd05-2b2784889eab"
      },
      "source": [
        "# Pie chart, where the slices will be ordered and plotted counter-clockwise:\n",
        "labels = [f'{k} ({df[\"Sentiment_Class\"].value_counts()[k]} samples)' for k in df['Sentiment_Class'].value_counts().keys()]\n",
        "sizes = dict(df['Sentiment_Class'].value_counts())\n",
        "sizes = sizes.values()\n",
        "\n",
        "fig1, ax1 = plt.subplots(figsize=(5,5));\n",
        "ax1.pie(sizes, labels=labels, autopct='%1.1f%%',\n",
        "        shadow=True, startangle=90)\n",
        "ax1.axis('equal')  # Equal aspect ratio ensures that pie is drawn as a circle.\n",
        "ax1.set_title(\"Count of 'Positive' and 'Negative' Samples\", pad=40, fontweight='bold', fontsize=15)\n",
        "plt.show();"
      ],
      "execution_count": null,
      "outputs": [
        {
          "output_type": "display_data",
          "data": {
            "image/png": "[encoded data removed]",
            "text/plain": [
              "<Figure size 360x360 with 1 Axes>"
            ]
          },
          "metadata": {}
        }
      ]
    },
    {
      "cell_type": "markdown",
      "metadata": {
        "id": "0b1aNEYMJkN8"
      },
      "source": [
        "### Observation\n",
        "* **Positive reviews are more common than negative reviews.**"
      ]
    },
    {
      "cell_type": "markdown",
      "metadata": {
        "id": "wGZ88XZuJkN8"
      },
      "source": [
        "## Assigning 'Review_Word_Count' Feature"
      ]
    },
    {
      "cell_type": "code",
      "metadata": {
        "colab": {
          "base_uri": "https://localhost:8080/",
          "height": 865
        },
        "id": "ICBpSKeAJkN8",
        "outputId": "8283278e-7705-4191-bc42-4a0bea38e657"
      },
      "source": [
        "%%time\n",
        "df[\"Review_Word_Count\"] = df[\"Text\"].apply(lambda x: len(x.split()))\n",
        "with pd.option_context('display.max_colwidth', -1):\n",
        "    display(df.head(2))"
      ],
      "execution_count": null,
      "outputs": [
        {
          "output_type": "display_data",
          "data": {
            "text/html": [
              "<div>\n",
              "<style scoped>\n",
              "    .dataframe tbody tr th:only-of-type {\n",
              "        vertical-align: middle;\n",
              "    }\n",
              "\n",
              "    .dataframe tbody tr th {\n",
              "        vertical-align: top;\n",
              "    }\n",
              "\n",
              "    .dataframe thead th {\n",
              "        text-align: right;\n",
              "    }\n",
              "</style>\n",
              "<table border=\"1\" class=\"dataframe\">\n",
              "  <thead>\n",
              "    <tr style=\"text-align: right;\">\n",
              "      <th></th>\n",
              "      <th>Id</th>\n",
              "      <th>ProductId</th>\n",
              "      <th>UserId</th>\n",
              "      <th>ProfileName</th>\n",
              "      <th>Score</th>\n",
              "      <th>Time</th>\n",
              "      <th>Summary</th>\n",
              "      <th>Text</th>\n",
              "      <th>Helpfulness_indicator</th>\n",
              "      <th>Sentiment_Class</th>\n",
              "      <th>Review_Word_Count</th>\n",
              "    </tr>\n",
              "  </thead>\n",
              "  <tbody>\n",
              "    <tr>\n",
              "      <th>0</th>\n",
              "      <td>1</td>\n",
              "      <td>B001E4KFG0</td>\n",
              "      <td>A3SGXH7AUHU8GW</td>\n",
              "      <td>delmartian</td>\n",
              "      <td>5</td>\n",
              "      <td>1303862400</td>\n",
              "      <td>Good Quality Dog Food</td>\n",
              "      <td>I have bought several of the Vitality canned dog food products and have found them all to be of good quality. The product looks more like a stew than a processed meat and it smells better. My Labrador is finicky and she appreciates this product better than  most.</td>\n",
              "      <td>Useful</td>\n",
              "      <td>Positive</td>\n",
              "      <td>48</td>\n",
              "    </tr>\n",
              "    <tr>\n",
              "      <th>1</th>\n",
              "      <td>2</td>\n",
              "      <td>B00813GRG4</td>\n",
              "      <td>A1D87F6ZCVE5NK</td>\n",
              "      <td>dll pa</td>\n",
              "      <td>1</td>\n",
              "      <td>1346976000</td>\n",
              "      <td>Not as Advertised</td>\n",
              "      <td>Product arrived labeled as Jumbo Salted Peanuts...the peanuts were actually small sized unsalted. Not sure if this was an error or if the vendor intended to represent the product as \"Jumbo\".</td>\n",
              "      <td>Not Available</td>\n",
              "      <td>Negative</td>\n",
              "      <td>31</td>\n",
              "    </tr>\n",
              "  </tbody>\n",
              "</table>\n",
              "</div>"
            ],
            "text/plain": [
              "   Id   ProductId  ... Sentiment_Class Review_Word_Count\n",
              "0  1   B001E4KFG0  ...  Positive        48              \n",
              "1  2   B00813GRG4  ...  Negative        31              \n",
              "\n",
              "[2 rows x 11 columns]"
            ]
          },
          "metadata": {}
        },
        {
          "output_type": "stream",
          "name": "stdout",
          "text": [
            "CPU times: user 1.8 s, sys: 5.79 ms, total: 1.8 s\n",
            "Wall time: 1.81 s\n"
          ]
        }
      ]
    },
    {
      "cell_type": "markdown",
      "metadata": {
        "id": "4cG7Zy_RJkN9"
      },
      "source": [
        "# **EDA after Data Cleaning and Feature Engineering**"
      ]
    },
    {
      "cell_type": "markdown",
      "metadata": {
        "id": "hUuyYfKtJkN9"
      },
      "source": [
        "## What is the distribution of useful and non-useful reviews in each of the set of Positive and Negative Reviews."
      ]
    },
    {
      "cell_type": "code",
      "metadata": {
        "colab": {
          "base_uri": "https://localhost:8080/",
          "height": 210
        },
        "id": "4ncnVLWbJkN9",
        "outputId": "56c27f2c-8df2-4db0-e91e-31d178ba753c"
      },
      "source": [
        "df_temp = df[(df[\"Helpfulness_indicator\"]!= \"Not Available\") & (df[\"Helpfulness_indicator\"]!= \"Intermediate\")]\n",
        "df_temp_1 = df_temp[\"Helpfulness_indicator\"].groupby(df_temp[\"Sentiment_Class\"]).value_counts(normalize=True)\n",
        "df_temp_1 = df_temp_1*100\n",
        "df_temp_1 = df_temp_1.rename(\"Percentage\").reset_index()\n",
        "\n",
        "plt.figure(figsize=(10,6))\n",
        "sns.barplot(data=df_temp_1, x=\"Sentiment_Class\", y=\"Percentage\", hue=\"Helpfulness_indicator\", hue_order=[\"Not Useful\",\"Useful\"], palette=sns.color_palette(\"RdYlGn\", 2));\n",
        "plt.legend(bbox_to_anchor=(1.05, 1), loc=2, borderaxespad=0.);\n",
        "plt.show()\n",
        "df_temp_1"
      ],
      "execution_count": null,
      "outputs": [
        {
          "output_type": "display_data",
          "data": {
            "image/png": "[encoded data removed]",
            "text/plain": [
              "<Figure size 720x432 with 1 Axes>"
            ]
          },
          "metadata": {
            "needs_background": "light"
          }
        },
        {
          "output_type": "execute_result",
          "data": {
            "text/html": [
              "<div>\n",
              "<style scoped>\n",
              "    .dataframe tbody tr th:only-of-type {\n",
              "        vertical-align: middle;\n",
              "    }\n",
              "\n",
              "    .dataframe tbody tr th {\n",
              "        vertical-align: top;\n",
              "    }\n",
              "\n",
              "    .dataframe thead th {\n",
              "        text-align: right;\n",
              "    }\n",
              "</style>\n",
              "<table border=\"1\" class=\"dataframe\">\n",
              "  <thead>\n",
              "    <tr style=\"text-align: right;\">\n",
              "      <th></th>\n",
              "      <th>Sentiment_Class</th>\n",
              "      <th>Helpfulness_indicator</th>\n",
              "      <th>Percentage</th>\n",
              "    </tr>\n",
              "  </thead>\n",
              "  <tbody>\n",
              "    <tr>\n",
              "      <th>0</th>\n",
              "      <td>Negative</td>\n",
              "      <td>Useful</td>\n",
              "      <td>73.081516</td>\n",
              "    </tr>\n",
              "    <tr>\n",
              "      <th>1</th>\n",
              "      <td>Negative</td>\n",
              "      <td>Not Useful</td>\n",
              "      <td>26.918484</td>\n",
              "    </tr>\n",
              "    <tr>\n",
              "      <th>2</th>\n",
              "      <td>Positive</td>\n",
              "      <td>Useful</td>\n",
              "      <td>98.035875</td>\n",
              "    </tr>\n",
              "    <tr>\n",
              "      <th>3</th>\n",
              "      <td>Positive</td>\n",
              "      <td>Not Useful</td>\n",
              "      <td>1.964125</td>\n",
              "    </tr>\n",
              "  </tbody>\n",
              "</table>\n",
              "</div>"
            ],
            "text/plain": [
              "  Sentiment_Class Helpfulness_indicator  Percentage\n",
              "0        Negative                Useful   73.081516\n",
              "1        Negative            Not Useful   26.918484\n",
              "2        Positive                Useful   98.035875\n",
              "3        Positive            Not Useful    1.964125"
            ]
          },
          "metadata": {},
          "execution_count": 31
        }
      ]
    },
    {
      "cell_type": "markdown",
      "metadata": {
        "id": "6quVv7OhJkN-"
      },
      "source": [
        "### Observations\n",
        "* **If we just look at Negative Reviews, a little more than quarter of the customers finding them non-useful(~27%)**.\n",
        "    1. Some cases of Negative Reviews being non-helpful : This could be for reviews which talks about some situational things which the customers who are reading them may not be concerned about. (for eg. a review which talks about how pricey the product is (this review will be negative since the rating given was less than 3). But the customer reading them is willing to pay a premium for good quality, taste. So in such cases, they find it not useful.)\n",
        "    2. Here, as we have seen earlier also reviews belonging to such cases are prevalent in our dataset.\n",
        "* **If we just look at Positive Reviews, there are very very few customers finding them non-useful(~2%)**. \n",
        "    1. Some cases of Positive Reviews being non-helpful : This could be for reviews which doesn't explain in length/detail as to why the product is good(for example - \"good\", \"best\"). Or some reviews which may have been paid for by the brand itself, as we call paid reviews, which the customers prompty recognized by the tone of it.\n",
        "    2. So we can safely say that our dataset doesn't have much - such kind of reviews.\n",
        "* **So if we look at the above graph collectively, Most of the Customers find both Negative and Positive reviews useful (>94%) (presumably to make their purchase decisions).**"
      ]
    },
    {
      "cell_type": "markdown",
      "metadata": {
        "id": "mq-GuUMcJkN-"
      },
      "source": [
        "## What is the distribution of Positive and Negative Reviews in each of the set of useful and non-useful reviews"
      ]
    },
    {
      "cell_type": "code",
      "metadata": {
        "colab": {
          "base_uri": "https://localhost:8080/",
          "height": 210
        },
        "id": "coljeiDFJkN_",
        "outputId": "bc603748-c266-42c0-985f-6314dcb0ae07"
      },
      "source": [
        "df_temp = df[(df[\"Helpfulness_indicator\"]!= \"Not Available\") & (df[\"Helpfulness_indicator\"]!= \"Intermediate\")]\n",
        "df_temp_1 = df_temp[\"Sentiment_Class\"].groupby(df_temp[\"Helpfulness_indicator\"]).value_counts(normalize=True)\n",
        "df_temp_1 = df_temp_1*100 \n",
        "df_temp_1 = df_temp_1.rename(\"Percentage\").reset_index()\n",
        "\n",
        "plt.figure(figsize=(10,6))\n",
        "sns.barplot(data=df_temp_1, x=\"Helpfulness_indicator\", y=\"Percentage\", hue=\"Sentiment_Class\", hue_order=[\"Negative\",\"Positive\"], palette=sns.color_palette(\"RdYlGn\", 2));\n",
        "plt.legend(bbox_to_anchor=(1.05, 1), loc=2, borderaxespad=0.);\n",
        "plt.show()\n",
        "df_temp_1"
      ],
      "execution_count": null,
      "outputs": [
        {
          "output_type": "display_data",
          "data": {
            "image/png": "[encoded data removed]",
            "text/plain": [
              "<Figure size 720x432 with 1 Axes>"
            ]
          },
          "metadata": {
            "needs_background": "light"
          }
        },
        {
          "output_type": "execute_result",
          "data": {
            "text/html": [
              "<div>\n",
              "<style scoped>\n",
              "    .dataframe tbody tr th:only-of-type {\n",
              "        vertical-align: middle;\n",
              "    }\n",
              "\n",
              "    .dataframe tbody tr th {\n",
              "        vertical-align: top;\n",
              "    }\n",
              "\n",
              "    .dataframe thead th {\n",
              "        text-align: right;\n",
              "    }\n",
              "</style>\n",
              "<table border=\"1\" class=\"dataframe\">\n",
              "  <thead>\n",
              "    <tr style=\"text-align: right;\">\n",
              "      <th></th>\n",
              "      <th>Helpfulness_indicator</th>\n",
              "      <th>Sentiment_Class</th>\n",
              "      <th>Percentage</th>\n",
              "    </tr>\n",
              "  </thead>\n",
              "  <tbody>\n",
              "    <tr>\n",
              "      <th>0</th>\n",
              "      <td>Not Useful</td>\n",
              "      <td>Negative</td>\n",
              "      <td>70.965485</td>\n",
              "    </tr>\n",
              "    <tr>\n",
              "      <th>1</th>\n",
              "      <td>Not Useful</td>\n",
              "      <td>Positive</td>\n",
              "      <td>29.034515</td>\n",
              "    </tr>\n",
              "    <tr>\n",
              "      <th>2</th>\n",
              "      <td>Useful</td>\n",
              "      <td>Positive</td>\n",
              "      <td>88.265498</td>\n",
              "    </tr>\n",
              "    <tr>\n",
              "      <th>3</th>\n",
              "      <td>Useful</td>\n",
              "      <td>Negative</td>\n",
              "      <td>11.734502</td>\n",
              "    </tr>\n",
              "  </tbody>\n",
              "</table>\n",
              "</div>"
            ],
            "text/plain": [
              "  Helpfulness_indicator Sentiment_Class  Percentage\n",
              "0            Not Useful        Negative   70.965485\n",
              "1            Not Useful        Positive   29.034515\n",
              "2                Useful        Positive   88.265498\n",
              "3                Useful        Negative   11.734502"
            ]
          },
          "metadata": {},
          "execution_count": 32
        }
      ]
    },
    {
      "cell_type": "markdown",
      "metadata": {
        "id": "AD8Ean26JkN_"
      },
      "source": [
        "### Observations\n",
        "* If we just look at the reviews which are **non-useful**, we can see that the share of **negative** reviews are far more than the positive reviews. So, Users find the ***negative reviews to be less helpful*** in general.\n",
        "* If we just look at the reviews which are **useful**, we can see that the share of **positive** reviews are far more than the negative reviews. So, Users find the ***positive reviews to be more helpful*** in general."
      ]
    },
    {
      "cell_type": "markdown",
      "metadata": {
        "id": "Aps3KTftJkOA"
      },
      "source": [
        "## Review Length vs. Review Usefulness"
      ]
    },
    {
      "cell_type": "code",
      "metadata": {
        "colab": {
          "base_uri": "https://localhost:8080/"
        },
        "id": "gY9SA4tzJkOA",
        "outputId": "cf522495-49a9-4534-a698-313288fbcb0e"
      },
      "source": [
        "temp_df_useful_nonuseful = df[(df[\"Helpfulness_indicator\"]!= \"Not Available\") & (df[\"Helpfulness_indicator\"]!= \"Intermediate\")]\n",
        "plt.figure(figsize=(20,8))\n",
        "sns.violinplot(x='Review_Word_Count', y='Helpfulness_indicator', data=temp_df_useful_nonuseful);"
      ],
      "execution_count": null,
      "outputs": [
        {
          "output_type": "display_data",
          "data": {
            "image/png": "[encoded data removed]",
            "text/plain": [
              "<Figure size 1440x576 with 1 Axes>"
            ]
          },
          "metadata": {
            "needs_background": "light"
          }
        }
      ]
    },
    {
      "cell_type": "markdown",
      "metadata": {
        "id": "Tn6yGGb3JkOA"
      },
      "source": [
        "### Observations\n",
        "* Since many outliers are there i.e. reviews with too many words are present, so in order to capture better co-relation between review length and ratings, we can consider reviews with 500 words or less."
      ]
    },
    {
      "cell_type": "code",
      "metadata": {
        "colab": {
          "base_uri": "https://localhost:8080/",
          "height": 179
        },
        "id": "H_B_0FvWJkOA",
        "outputId": "d45fbfcf-7170-4712-c2e5-90732fd23afb"
      },
      "source": [
        "temp_df_useful_nonuseful_500wc = df[(df[\"Helpfulness_indicator\"]!= \"Not Available\") & (df[\"Helpfulness_indicator\"]!= \"Intermediate\") & (df[\"Review_Word_Count\"]<500)]\n",
        "plt.figure(figsize=(20,8))\n",
        "sns.violinplot(x='Review_Word_Count', y='Helpfulness_indicator', data=temp_df_useful_nonuseful_500wc, orient=\"h\")\n",
        "plt.xticks(range(0,500,10), rotation=45)\n",
        "plt.show()\n",
        "temp_df_useful_nonuseful_500wc[\"Review_Word_Count\"].groupby(temp_df_useful_nonuseful_500wc[\"Helpfulness_indicator\"]).describe()"
      ],
      "execution_count": null,
      "outputs": [
        {
          "output_type": "display_data",
          "data": {
            "image/png": "[encoded data removed]",
            "text/plain": [
              "<Figure size 1440x576 with 1 Axes>"
            ]
          },
          "metadata": {
            "needs_background": "light"
          }
        },
        {
          "output_type": "execute_result",
          "data": {
            "text/html": [
              "<div>\n",
              "<style scoped>\n",
              "    .dataframe tbody tr th:only-of-type {\n",
              "        vertical-align: middle;\n",
              "    }\n",
              "\n",
              "    .dataframe tbody tr th {\n",
              "        vertical-align: top;\n",
              "    }\n",
              "\n",
              "    .dataframe thead th {\n",
              "        text-align: right;\n",
              "    }\n",
              "</style>\n",
              "<table border=\"1\" class=\"dataframe\">\n",
              "  <thead>\n",
              "    <tr style=\"text-align: right;\">\n",
              "      <th></th>\n",
              "      <th>count</th>\n",
              "      <th>mean</th>\n",
              "      <th>std</th>\n",
              "      <th>min</th>\n",
              "      <th>25%</th>\n",
              "      <th>50%</th>\n",
              "      <th>75%</th>\n",
              "      <th>max</th>\n",
              "    </tr>\n",
              "    <tr>\n",
              "      <th>Helpfulness_indicator</th>\n",
              "      <th></th>\n",
              "      <th></th>\n",
              "      <th></th>\n",
              "      <th></th>\n",
              "      <th></th>\n",
              "      <th></th>\n",
              "      <th></th>\n",
              "      <th></th>\n",
              "    </tr>\n",
              "  </thead>\n",
              "  <tbody>\n",
              "    <tr>\n",
              "      <th>Not Useful</th>\n",
              "      <td>8509.0</td>\n",
              "      <td>77.757551</td>\n",
              "      <td>67.370230</td>\n",
              "      <td>3.0</td>\n",
              "      <td>33.0</td>\n",
              "      <td>56.0</td>\n",
              "      <td>97.0</td>\n",
              "      <td>495.0</td>\n",
              "    </tr>\n",
              "    <tr>\n",
              "      <th>Useful</th>\n",
              "      <td>139955.0</td>\n",
              "      <td>85.570283</td>\n",
              "      <td>71.000847</td>\n",
              "      <td>6.0</td>\n",
              "      <td>38.0</td>\n",
              "      <td>63.0</td>\n",
              "      <td>108.0</td>\n",
              "      <td>499.0</td>\n",
              "    </tr>\n",
              "  </tbody>\n",
              "</table>\n",
              "</div>"
            ],
            "text/plain": [
              "                          count       mean        std  ...   50%    75%    max\n",
              "Helpfulness_indicator                                  ...                    \n",
              "Not Useful               8509.0  77.757551  67.370230  ...  56.0   97.0  495.0\n",
              "Useful                 139955.0  85.570283  71.000847  ...  63.0  108.0  499.0\n",
              "\n",
              "[2 rows x 8 columns]"
            ]
          },
          "metadata": {},
          "execution_count": 34
        }
      ]
    },
    {
      "cell_type": "markdown",
      "metadata": {
        "id": "Lhf05HUVJkOB"
      },
      "source": [
        "### Observations\n",
        "* Useful reviews are generally lengthier than non-useful reviews in terms of mean, median(50%), max, etc. (**Helpful reviews are longer**)\n",
        "* Helpful reviews have a higher median word count(63 words) as compared to non-helpful's (56 words)\n",
        "* There is a high concentration of reviews which are having a word count in the neighbourhood of 30.\n",
        "* Distribution of both useful and non-useful reviews are more or less the same; follows the log-normal distribution which is inline with most human behaviours."
      ]
    },
    {
      "cell_type": "markdown",
      "metadata": {
        "id": "jGwLc7ORJkOB"
      },
      "source": [
        "## Review Length vs. Review Sentiment"
      ]
    },
    {
      "cell_type": "code",
      "metadata": {
        "colab": {
          "base_uri": "https://localhost:8080/",
          "height": 54
        },
        "id": "iZ4abhTiJkOC",
        "outputId": "93f4da40-6d38-42aa-b806-cce44d385f71"
      },
      "source": [
        "plt.figure(figsize=(20,8))\n",
        "sns.violinplot(x='Review_Word_Count', y='Sentiment_Class', data=temp_df_useful_nonuseful);"
      ],
      "execution_count": null,
      "outputs": [
        {
          "output_type": "display_data",
          "data": {
            "image/png": "[encoded data removed]",
            "text/plain": [
              "<Figure size 1440x576 with 1 Axes>"
            ]
          },
          "metadata": {
            "needs_background": "light"
          }
        }
      ]
    },
    {
      "cell_type": "markdown",
      "metadata": {
        "id": "vZLxlZHmJkOC"
      },
      "source": [
        "### Observations\n",
        "* Since many outliers are there i.e. reviews with too many words are present, so in order to capture better co-relation between review length and ratings, we can consider reviews with 500 words or less.\n",
        "* The max length of a Positive review is much higher(\\~2500)  as compared to Negative Review(\\~1600)"
      ]
    },
    {
      "cell_type": "code",
      "metadata": {
        "colab": {
          "base_uri": "https://localhost:8080/",
          "height": 179
        },
        "id": "SIJIh3VPJkOD",
        "outputId": "a19bcc40-f236-487e-b8fa-009bf6cc5fb5"
      },
      "source": [
        "plt.figure(figsize=(20,8))\n",
        "sns.violinplot(x='Review_Word_Count', y='Sentiment_Class', data=temp_df_useful_nonuseful_500wc, orient=\"h\")\n",
        "plt.xticks(range(0,500,10), rotation=45)\n",
        "plt.show()\n",
        "temp_df_useful_nonuseful_500wc[\"Review_Word_Count\"].groupby(temp_df_useful_nonuseful_500wc[\"Sentiment_Class\"]).describe()"
      ],
      "execution_count": null,
      "outputs": [
        {
          "output_type": "display_data",
          "data": {
            "image/png": "[encoded data removed]",
            "text/plain": [
              "<Figure size 1440x576 with 1 Axes>"
            ]
          },
          "metadata": {
            "needs_background": "light"
          }
        },
        {
          "output_type": "execute_result",
          "data": {
            "text/html": [
              "<div>\n",
              "<style scoped>\n",
              "    .dataframe tbody tr th:only-of-type {\n",
              "        vertical-align: middle;\n",
              "    }\n",
              "\n",
              "    .dataframe tbody tr th {\n",
              "        vertical-align: top;\n",
              "    }\n",
              "\n",
              "    .dataframe thead th {\n",
              "        text-align: right;\n",
              "    }\n",
              "</style>\n",
              "<table border=\"1\" class=\"dataframe\">\n",
              "  <thead>\n",
              "    <tr style=\"text-align: right;\">\n",
              "      <th></th>\n",
              "      <th>count</th>\n",
              "      <th>mean</th>\n",
              "      <th>std</th>\n",
              "      <th>min</th>\n",
              "      <th>25%</th>\n",
              "      <th>50%</th>\n",
              "      <th>75%</th>\n",
              "      <th>max</th>\n",
              "    </tr>\n",
              "    <tr>\n",
              "      <th>Sentiment_Class</th>\n",
              "      <th></th>\n",
              "      <th></th>\n",
              "      <th></th>\n",
              "      <th></th>\n",
              "      <th></th>\n",
              "      <th></th>\n",
              "      <th></th>\n",
              "      <th></th>\n",
              "    </tr>\n",
              "  </thead>\n",
              "  <tbody>\n",
              "    <tr>\n",
              "      <th>Negative</th>\n",
              "      <td>22471.0</td>\n",
              "      <td>88.182769</td>\n",
              "      <td>69.546710</td>\n",
              "      <td>3.0</td>\n",
              "      <td>41.0</td>\n",
              "      <td>68.0</td>\n",
              "      <td>112.0</td>\n",
              "      <td>497.0</td>\n",
              "    </tr>\n",
              "    <tr>\n",
              "      <th>Positive</th>\n",
              "      <td>125993.0</td>\n",
              "      <td>84.576707</td>\n",
              "      <td>71.032127</td>\n",
              "      <td>5.0</td>\n",
              "      <td>37.0</td>\n",
              "      <td>62.0</td>\n",
              "      <td>107.0</td>\n",
              "      <td>499.0</td>\n",
              "    </tr>\n",
              "  </tbody>\n",
              "</table>\n",
              "</div>"
            ],
            "text/plain": [
              "                    count       mean        std  min   25%   50%    75%    max\n",
              "Sentiment_Class                                                               \n",
              "Negative          22471.0  88.182769  69.546710  3.0  41.0  68.0  112.0  497.0\n",
              "Positive         125993.0  84.576707  71.032127  5.0  37.0  62.0  107.0  499.0"
            ]
          },
          "metadata": {},
          "execution_count": 36
        }
      ]
    },
    {
      "cell_type": "markdown",
      "metadata": {
        "id": "Uyig9IrkJkOD"
      },
      "source": [
        "### Observations\n",
        "* Negative reviews are generally lengthier than Positive reviews in terms of mean, 25th percentile, median(50th percentile), 75th percentile, etc. (**Positive Reviews are shorter**)\n",
        "* The standard deviation is higher in case of Positive Reviews."
      ]
    },
    {
      "cell_type": "markdown",
      "metadata": {
        "id": "APzdrm02JkOH"
      },
      "source": [
        "## EDA Observations (Consolidated)\n",
        "1. Positive reviews are more common than negative reviews.\n",
        "2. If we just look at Negative Reviews, a little more than quarter of the customers finding them non-useful(~27%)\n",
        "3. If we just look at Positive Reviews, there are very very few customers finding them non-useful(~2%)\n",
        "4. Most of the Customers find both Negative and Positive reviews useful (>94%) (presumably to make their purchase decisions).\n",
        "5. Negative reviews are less helpful\n",
        "6. Positive reviews are more helpful\n",
        "7. Helpful reviews are longer\n",
        "8. Positive Reviews are shorter\n",
        "\n",
        "## EDA Conclusion\n",
        "* Positive reviews are common\n",
        "* Positive reviews are shorter (in terms of word count)\n",
        "* Helpful reviews are longer.\n",
        "* Despite being shorter, positive reviews are found to be more helpful.\n"
      ]
    }
  ]
}